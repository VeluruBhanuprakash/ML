{
 "cells": [
  {
   "cell_type": "code",
   "execution_count": 1,
   "id": "variable-method",
   "metadata": {},
   "outputs": [],
   "source": [
    "import mysql.connector as connection"
   ]
  },
  {
   "cell_type": "code",
   "execution_count": 5,
   "id": "encouraging-superior",
   "metadata": {},
   "outputs": [],
   "source": [
    "def executeQuery(query):\n",
    "    con = connection.connect(host='localhost',user='root',passwd='admin',use_pure=True)\n",
    "    cursor = con.cursor()\n",
    "    cursor.execute(query)\n",
    "    result = cursor.fetchall()\n",
    "    con.close()\n",
    "    return result"
   ]
  },
  {
   "cell_type": "markdown",
   "id": "ceramic-circumstances",
   "metadata": {},
   "source": [
    "Q-1. Write an SQL query to fetch “FIRST_NAME” from Customer table using the alias\n",
    "name as <customer name>."
   ]
  },
  {
   "cell_type": "code",
   "execution_count": 7,
   "id": "minute-remainder",
   "metadata": {},
   "outputs": [
    {
     "data": {
      "text/plain": [
       "[('MARY',), ('PATRICIA',), ('LINDA',), ('BARBARA',), ('ELIZABETH',)]"
      ]
     },
     "execution_count": 7,
     "metadata": {},
     "output_type": "execute_result"
    }
   ],
   "source": [
    "query = \"select first_name from sakila.customer Limit 5\"\n",
    "executeQuery(query)"
   ]
  },
  {
   "cell_type": "markdown",
   "id": "military-jesus",
   "metadata": {},
   "source": [
    "Q-2. Write an SQL query to fetch unique values of Store_id from customer table."
   ]
  },
  {
   "cell_type": "code",
   "execution_count": 9,
   "id": "original-generator",
   "metadata": {},
   "outputs": [
    {
     "data": {
      "text/plain": [
       "[(1,), (2,)]"
      ]
     },
     "execution_count": 9,
     "metadata": {},
     "output_type": "execute_result"
    }
   ],
   "source": [
    "query = \"select distinct(store_id) from sakila.customer\"\n",
    "executeQuery(query)"
   ]
  },
  {
   "cell_type": "markdown",
   "id": "harmful-portsmouth",
   "metadata": {},
   "source": [
    "Q-3. Write an SQL query to show the last 5 record from a table."
   ]
  },
  {
   "cell_type": "code",
   "execution_count": 12,
   "id": "assisted-chocolate",
   "metadata": {},
   "outputs": [
    {
     "data": {
      "text/plain": [
       "[(599,\n",
       "  2,\n",
       "  'AUSTIN',\n",
       "  'CINTRON',\n",
       "  'AUSTIN.CINTRON@sakilacustomer.org',\n",
       "  605,\n",
       "  1,\n",
       "  datetime.datetime(2006, 2, 14, 22, 4, 37),\n",
       "  datetime.datetime(2006, 2, 15, 4, 57, 20)),\n",
       " (598,\n",
       "  1,\n",
       "  'WADE',\n",
       "  'DELVALLE',\n",
       "  'WADE.DELVALLE@sakilacustomer.org',\n",
       "  604,\n",
       "  1,\n",
       "  datetime.datetime(2006, 2, 14, 22, 4, 37),\n",
       "  datetime.datetime(2006, 2, 15, 4, 57, 20)),\n",
       " (597,\n",
       "  1,\n",
       "  'FREDDIE',\n",
       "  'DUGGAN',\n",
       "  'FREDDIE.DUGGAN@sakilacustomer.org',\n",
       "  603,\n",
       "  1,\n",
       "  datetime.datetime(2006, 2, 14, 22, 4, 37),\n",
       "  datetime.datetime(2006, 2, 15, 4, 57, 20)),\n",
       " (596,\n",
       "  1,\n",
       "  'ENRIQUE',\n",
       "  'FORSYTHE',\n",
       "  'ENRIQUE.FORSYTHE@sakilacustomer.org',\n",
       "  602,\n",
       "  1,\n",
       "  datetime.datetime(2006, 2, 14, 22, 4, 37),\n",
       "  datetime.datetime(2006, 2, 15, 4, 57, 20)),\n",
       " (595,\n",
       "  1,\n",
       "  'TERRENCE',\n",
       "  'GUNDERSON',\n",
       "  'TERRENCE.GUNDERSON@sakilacustomer.org',\n",
       "  601,\n",
       "  1,\n",
       "  datetime.datetime(2006, 2, 14, 22, 4, 37),\n",
       "  datetime.datetime(2006, 2, 15, 4, 57, 20))]"
      ]
     },
     "execution_count": 12,
     "metadata": {},
     "output_type": "execute_result"
    }
   ],
   "source": [
    "query = \"select * from sakila.customer order by customer_id DESc Limit 5\"\n",
    "executeQuery(query)"
   ]
  },
  {
   "cell_type": "code",
   "execution_count": null,
   "id": "piano-shirt",
   "metadata": {},
   "outputs": [],
   "source": []
  }
 ],
 "metadata": {
  "kernelspec": {
   "display_name": "Python 3",
   "language": "python",
   "name": "python3"
  },
  "language_info": {
   "codemirror_mode": {
    "name": "ipython",
    "version": 3
   },
   "file_extension": ".py",
   "mimetype": "text/x-python",
   "name": "python",
   "nbconvert_exporter": "python",
   "pygments_lexer": "ipython3",
   "version": "3.8.10"
  }
 },
 "nbformat": 4,
 "nbformat_minor": 5
}
