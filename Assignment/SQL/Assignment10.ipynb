{
 "cells": [
  {
   "cell_type": "code",
   "execution_count": 1,
   "id": "coordinate-fitness",
   "metadata": {},
   "outputs": [],
   "source": [
    "import mysql.connector as connection"
   ]
  },
  {
   "cell_type": "code",
   "execution_count": 2,
   "id": "authorized-heating",
   "metadata": {},
   "outputs": [],
   "source": [
    "def executeQuery(query):\n",
    "    con = connection.connect(host='localhost',user='root',passwd='admin',database='sakila',use_pure=True)\n",
    "    cursor= con.cursor()\n",
    "    cursor.execute(query)\n",
    "    result = cursor.fetchall()\n",
    "    con.close()\n",
    "    return result"
   ]
  },
  {
   "cell_type": "markdown",
   "id": "ruled-outreach",
   "metadata": {},
   "source": [
    "Q-19. Write an SQL query to determine the 5th highest salary without using TOP or limit\n",
    "method."
   ]
  },
  {
   "cell_type": "code",
   "execution_count": 4,
   "id": "liquid-kitchen",
   "metadata": {},
   "outputs": [
    {
     "data": {
      "text/plain": [
       "[(90000,)]"
      ]
     },
     "execution_count": 4,
     "metadata": {},
     "output_type": "execute_result"
    }
   ],
   "source": [
    "query = \"select Salary from (select distinct salary,dense_rank() over(order by salary desc) as dummy FROM worker) as t where t.dummy=5;\"\n",
    "executeQuery(query)"
   ]
  },
  {
   "cell_type": "markdown",
   "id": "virgin-cherry",
   "metadata": {},
   "source": [
    "Q-20. Write an SQL query to fetch the list of employees with the same salary."
   ]
  },
  {
   "cell_type": "code",
   "execution_count": 5,
   "id": "distinguished-watch",
   "metadata": {},
   "outputs": [
    {
     "data": {
      "text/plain": [
       "[('Vivek',), ('Amitabh',)]"
      ]
     },
     "execution_count": 5,
     "metadata": {},
     "output_type": "execute_result"
    }
   ],
   "source": [
    "query=\"select w1.First_name from worker w1 inner join worker w2 on w1.salary = w2.salary and w1.first_name<>w2.first_name\"\n",
    "executeQuery(query)"
   ]
  },
  {
   "cell_type": "code",
   "execution_count": null,
   "id": "allied-forge",
   "metadata": {},
   "outputs": [],
   "source": []
  }
 ],
 "metadata": {
  "kernelspec": {
   "display_name": "Python 3",
   "language": "python",
   "name": "python3"
  },
  "language_info": {
   "codemirror_mode": {
    "name": "ipython",
    "version": 3
   },
   "file_extension": ".py",
   "mimetype": "text/x-python",
   "name": "python",
   "nbconvert_exporter": "python",
   "pygments_lexer": "ipython3",
   "version": "3.8.10"
  }
 },
 "nbformat": 4,
 "nbformat_minor": 5
}
