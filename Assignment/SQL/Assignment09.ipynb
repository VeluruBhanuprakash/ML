{
 "cells": [
  {
   "cell_type": "code",
   "execution_count": 1,
   "id": "educational-tribe",
   "metadata": {},
   "outputs": [],
   "source": [
    "import mysql.connector as connection"
   ]
  },
  {
   "cell_type": "code",
   "execution_count": 3,
   "id": "signal-oakland",
   "metadata": {},
   "outputs": [],
   "source": [
    "def executeQuery(query):\n",
    "    con = connection.connect(host='localhost',user='root',passwd='admin',database='sakila',use_pure=True)\n",
    "    cursor = con.cursor()\n",
    "    cursor.execute(query)\n",
    "    result = cursor.fetchall()\n",
    "    return result"
   ]
  },
  {
   "cell_type": "markdown",
   "id": "acoustic-peripheral",
   "metadata": {},
   "source": [
    "Q-17. Write an SQL query to show the top n (say 10) records of a table."
   ]
  },
  {
   "cell_type": "code",
   "execution_count": 4,
   "id": "fantastic-sussex",
   "metadata": {},
   "outputs": [
    {
     "data": {
      "text/plain": [
       "[(1,\n",
       "  1,\n",
       "  'MARY',\n",
       "  'SMITH',\n",
       "  'MARY.SMITH@sakilacustomer.org',\n",
       "  5,\n",
       "  1,\n",
       "  datetime.datetime(2006, 2, 14, 22, 4, 36),\n",
       "  datetime.datetime(2006, 2, 15, 4, 57, 20)),\n",
       " (2,\n",
       "  1,\n",
       "  'PATRICIA',\n",
       "  'JOHNSON',\n",
       "  'PATRICIA.JOHNSON@sakilacustomer.org',\n",
       "  6,\n",
       "  1,\n",
       "  datetime.datetime(2006, 2, 14, 22, 4, 36),\n",
       "  datetime.datetime(2006, 2, 15, 4, 57, 20)),\n",
       " (3,\n",
       "  1,\n",
       "  'LINDA',\n",
       "  'WILLIAMS',\n",
       "  'LINDA.WILLIAMS@sakilacustomer.org',\n",
       "  7,\n",
       "  1,\n",
       "  datetime.datetime(2006, 2, 14, 22, 4, 36),\n",
       "  datetime.datetime(2006, 2, 15, 4, 57, 20)),\n",
       " (4,\n",
       "  2,\n",
       "  'BARBARA',\n",
       "  'JONES',\n",
       "  'BARBARA.JONES@sakilacustomer.org',\n",
       "  8,\n",
       "  1,\n",
       "  datetime.datetime(2006, 2, 14, 22, 4, 36),\n",
       "  datetime.datetime(2006, 2, 15, 4, 57, 20)),\n",
       " (5,\n",
       "  1,\n",
       "  'ELIZABETH',\n",
       "  'BROWN',\n",
       "  'ELIZABETH.BROWN@sakilacustomer.org',\n",
       "  9,\n",
       "  1,\n",
       "  datetime.datetime(2006, 2, 14, 22, 4, 36),\n",
       "  datetime.datetime(2006, 2, 15, 4, 57, 20)),\n",
       " (6,\n",
       "  2,\n",
       "  'JENNIFER',\n",
       "  'DAVIS',\n",
       "  'JENNIFER.DAVIS@sakilacustomer.org',\n",
       "  10,\n",
       "  1,\n",
       "  datetime.datetime(2006, 2, 14, 22, 4, 36),\n",
       "  datetime.datetime(2006, 2, 15, 4, 57, 20)),\n",
       " (7,\n",
       "  1,\n",
       "  'MARIA',\n",
       "  'MILLER',\n",
       "  'MARIA.MILLER@sakilacustomer.org',\n",
       "  11,\n",
       "  1,\n",
       "  datetime.datetime(2006, 2, 14, 22, 4, 36),\n",
       "  datetime.datetime(2006, 2, 15, 4, 57, 20)),\n",
       " (8,\n",
       "  2,\n",
       "  'SUSAN',\n",
       "  'WILSON',\n",
       "  'SUSAN.WILSON@sakilacustomer.org',\n",
       "  12,\n",
       "  1,\n",
       "  datetime.datetime(2006, 2, 14, 22, 4, 36),\n",
       "  datetime.datetime(2006, 2, 15, 4, 57, 20)),\n",
       " (9,\n",
       "  2,\n",
       "  'MARGARET',\n",
       "  'MOORE',\n",
       "  'MARGARET.MOORE@sakilacustomer.org',\n",
       "  13,\n",
       "  1,\n",
       "  datetime.datetime(2006, 2, 14, 22, 4, 36),\n",
       "  datetime.datetime(2006, 2, 15, 4, 57, 20)),\n",
       " (10,\n",
       "  1,\n",
       "  'DOROTHY',\n",
       "  'TAYLOR',\n",
       "  'DOROTHY.TAYLOR@sakilacustomer.org',\n",
       "  14,\n",
       "  1,\n",
       "  datetime.datetime(2006, 2, 14, 22, 4, 36),\n",
       "  datetime.datetime(2006, 2, 15, 4, 57, 20))]"
      ]
     },
     "execution_count": 4,
     "metadata": {},
     "output_type": "execute_result"
    }
   ],
   "source": [
    "query = \"select * from customer order by customer_id asc limit 10\"\n",
    "executeQuery(query)"
   ]
  },
  {
   "cell_type": "markdown",
   "id": "bridal-offer",
   "metadata": {},
   "source": [
    "Q-18. Write an SQL query to determine the nth (say n=5) highest salary from a table."
   ]
  },
  {
   "cell_type": "code",
   "execution_count": 8,
   "id": "stable-montreal",
   "metadata": {},
   "outputs": [
    {
     "data": {
      "text/plain": [
       "[(90000,)]"
      ]
     },
     "execution_count": 8,
     "metadata": {},
     "output_type": "execute_result"
    }
   ],
   "source": [
    "query = \"select Salary from (select distinct salary,dense_rank() over(order by salary desc) as dummy FROM sakila.worker) as t where t.dummy=5;\"\n",
    "executeQuery(query)"
   ]
  },
  {
   "cell_type": "code",
   "execution_count": null,
   "id": "inner-hotel",
   "metadata": {},
   "outputs": [],
   "source": []
  }
 ],
 "metadata": {
  "kernelspec": {
   "display_name": "Python 3",
   "language": "python",
   "name": "python3"
  },
  "language_info": {
   "codemirror_mode": {
    "name": "ipython",
    "version": 3
   },
   "file_extension": ".py",
   "mimetype": "text/x-python",
   "name": "python",
   "nbconvert_exporter": "python",
   "pygments_lexer": "ipython3",
   "version": "3.8.10"
  }
 },
 "nbformat": 4,
 "nbformat_minor": 5
}
