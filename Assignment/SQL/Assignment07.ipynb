{
 "cells": [
  {
   "cell_type": "code",
   "execution_count": 1,
   "id": "premier-trail",
   "metadata": {},
   "outputs": [],
   "source": [
    "import mysql.connector as connection"
   ]
  },
  {
   "cell_type": "code",
   "execution_count": 4,
   "id": "fossil-cycle",
   "metadata": {},
   "outputs": [],
   "source": [
    "def executeQuery(query):\n",
    "    con =  connection.connect(host='localhost',user='root',passwd = 'admin',database='sakila',use_pure=True)\n",
    "    cursor = con.cursor()\n",
    "    cursor.execute(query)\n",
    "    result = cursor.fetchall()\n",
    "    con.close()\n",
    "    return result"
   ]
  },
  {
   "cell_type": "markdown",
   "id": "operating-thought",
   "metadata": {},
   "source": [
    "Q-13. Write an SQL query to show only odd rows from a table."
   ]
  },
  {
   "cell_type": "code",
   "execution_count": 19,
   "id": "champion-yugoslavia",
   "metadata": {
    "scrolled": false
   },
   "outputs": [
    {
     "data": {
      "text/plain": [
       "[(1,), (3,), (5,), (7,), (9,), (11,), (13,), (15,), (17,), (19,)]"
      ]
     },
     "execution_count": 19,
     "metadata": {},
     "output_type": "execute_result"
    }
   ],
   "source": [
    "query = \"select t.customer_id from (select * from customer order by customer_id) as t where mod(t.customer_id,2)!=0\"\n",
    "executeQuery(query)[:10]"
   ]
  },
  {
   "cell_type": "markdown",
   "id": "threatened-dealing",
   "metadata": {},
   "source": [
    "Q-14. Write an SQL query to clone a new table from another table."
   ]
  },
  {
   "cell_type": "code",
   "execution_count": 21,
   "id": "logical-background",
   "metadata": {},
   "outputs": [
    {
     "data": {
      "text/plain": [
       "[]"
      ]
     },
     "execution_count": 21,
     "metadata": {},
     "output_type": "execute_result"
    }
   ],
   "source": [
    "query = \"create table customer2 select * from customer\"\n",
    "executeQuery(query)"
   ]
  },
  {
   "cell_type": "code",
   "execution_count": 23,
   "id": "middle-consent",
   "metadata": {},
   "outputs": [
    {
     "data": {
      "text/plain": [
       "[(1,\n",
       "  1,\n",
       "  'MARY',\n",
       "  'SMITH',\n",
       "  'MARY.SMITH@sakilacustomer.org',\n",
       "  5,\n",
       "  1,\n",
       "  datetime.datetime(2006, 2, 14, 22, 4, 36),\n",
       "  datetime.datetime(2006, 2, 15, 4, 57, 20)),\n",
       " (2,\n",
       "  1,\n",
       "  'PATRICIA',\n",
       "  'JOHNSON',\n",
       "  'PATRICIA.JOHNSON@sakilacustomer.org',\n",
       "  6,\n",
       "  1,\n",
       "  datetime.datetime(2006, 2, 14, 22, 4, 36),\n",
       "  datetime.datetime(2006, 2, 15, 4, 57, 20)),\n",
       " (3,\n",
       "  1,\n",
       "  'LINDA',\n",
       "  'WILLIAMS',\n",
       "  'LINDA.WILLIAMS@sakilacustomer.org',\n",
       "  7,\n",
       "  1,\n",
       "  datetime.datetime(2006, 2, 14, 22, 4, 36),\n",
       "  datetime.datetime(2006, 2, 15, 4, 57, 20))]"
      ]
     },
     "execution_count": 23,
     "metadata": {},
     "output_type": "execute_result"
    }
   ],
   "source": [
    "executeQuery(\"select * from customer2 limit 3\")"
   ]
  },
  {
   "cell_type": "code",
   "execution_count": null,
   "id": "crude-privilege",
   "metadata": {},
   "outputs": [],
   "source": []
  }
 ],
 "metadata": {
  "kernelspec": {
   "display_name": "Python 3",
   "language": "python",
   "name": "python3"
  },
  "language_info": {
   "codemirror_mode": {
    "name": "ipython",
    "version": 3
   },
   "file_extension": ".py",
   "mimetype": "text/x-python",
   "name": "python",
   "nbconvert_exporter": "python",
   "pygments_lexer": "ipython3",
   "version": "3.8.10"
  }
 },
 "nbformat": 4,
 "nbformat_minor": 5
}
