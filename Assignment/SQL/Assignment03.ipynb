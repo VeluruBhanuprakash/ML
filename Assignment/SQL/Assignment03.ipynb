{
 "cells": [
  {
   "cell_type": "code",
   "execution_count": 2,
   "id": "adjusted-climate",
   "metadata": {},
   "outputs": [],
   "source": [
    "import mysql.connector as connection"
   ]
  },
  {
   "cell_type": "code",
   "execution_count": 3,
   "id": "macro-setup",
   "metadata": {},
   "outputs": [],
   "source": [
    "def executeQuery(query):\n",
    "    con = connection.connect(host='localhost',user='root',passwd='admin',use_pure=True)\n",
    "    cursor = con.cursor()\n",
    "    cursor.execute(query)\n",
    "    result = cursor.fetchall()\n",
    "    return result"
   ]
  },
  {
   "cell_type": "markdown",
   "id": "coordinate-encounter",
   "metadata": {},
   "source": [
    "Q-1. Write an SQL query to print the FIRST_NAME from Worker table after removing\n",
    "white spaces from the right side."
   ]
  },
  {
   "cell_type": "code",
   "execution_count": 3,
   "id": "brief-buying",
   "metadata": {},
   "outputs": [
    {
     "data": {
      "text/plain": [
       "[('Monika',),\n",
       " ('Niharika',),\n",
       " ('Vishal',),\n",
       " ('Amitabh',),\n",
       " ('Vivek',),\n",
       " ('Vipul',),\n",
       " ('Satish',),\n",
       " ('Geetika',)]"
      ]
     },
     "execution_count": 3,
     "metadata": {},
     "output_type": "execute_result"
    }
   ],
   "source": [
    "query = \"select rtrim(first_name) from sakila.worker\"\n",
    "executeQuery(query)"
   ]
  },
  {
   "cell_type": "markdown",
   "id": "breathing-principal",
   "metadata": {},
   "source": [
    "Q-2. Write an SQL query that fetches the unique values of DEPARTMENT from Worker\n",
    "table and prints its length."
   ]
  },
  {
   "cell_type": "code",
   "execution_count": 7,
   "id": "amateur-tenant",
   "metadata": {},
   "outputs": [
    {
     "name": "stdout",
     "output_type": "stream",
     "text": [
      "HR 2\n",
      "Admin 5\n",
      "Account 7\n"
     ]
    }
   ],
   "source": [
    "query = \"select distinct(department) from sakila.worker\"\n",
    "output = executeQuery(query)\n",
    "for i in output:\n",
    "    print(i[0],len(i[0]))"
   ]
  },
  {
   "cell_type": "code",
   "execution_count": 8,
   "id": "automated-aaron",
   "metadata": {},
   "outputs": [
    {
     "data": {
      "text/plain": [
       "[(2,), (5,), (7,)]"
      ]
     },
     "execution_count": 8,
     "metadata": {},
     "output_type": "execute_result"
    }
   ],
   "source": [
    "query = \"select distinct length(department) from sakila.worker\"\n",
    "executeQuery(query)"
   ]
  },
  {
   "cell_type": "markdown",
   "id": "understood-definition",
   "metadata": {},
   "source": [
    "Q-3. Write an SQL query to fetch nth max salaries from a table."
   ]
  },
  {
   "cell_type": "code",
   "execution_count": 4,
   "id": "olympic-price",
   "metadata": {},
   "outputs": [
    {
     "data": {
      "text/plain": [
       "[(500000,), (300000,), (200000,), (100000,)]"
      ]
     },
     "execution_count": 4,
     "metadata": {},
     "output_type": "execute_result"
    }
   ],
   "source": [
    "query = \"select Salary from (select distinct salary,dense_rank() over(order by salary desc) as dummy FROM sakila.worker) as t where t.dummy<5;\"\n",
    "executeQuery(query)"
   ]
  },
  {
   "cell_type": "code",
   "execution_count": null,
   "id": "capable-shape",
   "metadata": {},
   "outputs": [],
   "source": []
  }
 ],
 "metadata": {
  "kernelspec": {
   "display_name": "Python 3",
   "language": "python",
   "name": "python3"
  },
  "language_info": {
   "codemirror_mode": {
    "name": "ipython",
    "version": 3
   },
   "file_extension": ".py",
   "mimetype": "text/x-python",
   "name": "python",
   "nbconvert_exporter": "python",
   "pygments_lexer": "ipython3",
   "version": "3.8.10"
  }
 },
 "nbformat": 4,
 "nbformat_minor": 5
}
