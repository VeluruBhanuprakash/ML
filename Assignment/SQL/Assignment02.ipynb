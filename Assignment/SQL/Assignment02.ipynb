{
 "cells": [
  {
   "cell_type": "code",
   "execution_count": 1,
   "id": "close-leisure",
   "metadata": {},
   "outputs": [],
   "source": [
    "import mysql.connector as connection"
   ]
  },
  {
   "cell_type": "code",
   "execution_count": 4,
   "id": "bound-harris",
   "metadata": {},
   "outputs": [],
   "source": [
    "def executeQuery(query):\n",
    "    con = connection.connect(host=\"localhost\",user=\"root\",passwd=\"admin\",use_pure=True)\n",
    "    cursor= con.cursor()\n",
    "    cursor.execute(query)\n",
    "    result = cursor.fetchall()\n",
    "    return result"
   ]
  },
  {
   "cell_type": "markdown",
   "id": "fallen-manhattan",
   "metadata": {},
   "source": [
    "Q-1. Write an SQL query to print the first three characters of  FIRST_NAME from customer\n",
    "table."
   ]
  },
  {
   "cell_type": "code",
   "execution_count": 8,
   "id": "partial-massachusetts",
   "metadata": {},
   "outputs": [
    {
     "data": {
      "text/plain": [
       "[('MAR',), ('PAT',), ('LIN',), ('BAR',), ('ELI',)]"
      ]
     },
     "execution_count": 8,
     "metadata": {},
     "output_type": "execute_result"
    }
   ],
   "source": [
    "query = \"select substring(first_name,1,3) from sakila.customer limit 5\"\n",
    "executeQuery(query)"
   ]
  },
  {
   "cell_type": "markdown",
   "id": "molecular-hello",
   "metadata": {},
   "source": [
    " Q-2. Write an SQL query to find the position of the alphabet (‘a’) in the first name\n",
    "column ‘ANITA’ from customer table."
   ]
  },
  {
   "cell_type": "code",
   "execution_count": 11,
   "id": "laden-collective",
   "metadata": {},
   "outputs": [
    {
     "data": {
      "text/plain": [
       "[(1,)]"
      ]
     },
     "execution_count": 11,
     "metadata": {},
     "output_type": "execute_result"
    }
   ],
   "source": [
    "query = \"Select position('a' in first_name) from sakila.customer where first_name = 'ANITA'\"\n",
    "executeQuery(query)"
   ]
  },
  {
   "cell_type": "markdown",
   "id": "cooperative-malaysia",
   "metadata": {},
   "source": [
    "Q-3. Write an SQL query to print the name of employees having the highest salary in each\n",
    "department."
   ]
  },
  {
   "cell_type": "code",
   "execution_count": 13,
   "id": "latter-threshold",
   "metadata": {},
   "outputs": [
    {
     "data": {
      "text/plain": [
       "[('Vishal',), ('Amitabh',), ('Vivek',), ('Vipul',)]"
      ]
     },
     "execution_count": 13,
     "metadata": {},
     "output_type": "execute_result"
    }
   ],
   "source": [
    "query = \"select first_name from sakila.worker where salary in (SELECT max(salary) from sakila.Worker group by DEPARTMENT);\"\n",
    "executeQuery(query)"
   ]
  },
  {
   "cell_type": "code",
   "execution_count": null,
   "id": "brown-germany",
   "metadata": {},
   "outputs": [],
   "source": []
  }
 ],
 "metadata": {
  "kernelspec": {
   "display_name": "Python 3",
   "language": "python",
   "name": "python3"
  },
  "language_info": {
   "codemirror_mode": {
    "name": "ipython",
    "version": 3
   },
   "file_extension": ".py",
   "mimetype": "text/x-python",
   "name": "python",
   "nbconvert_exporter": "python",
   "pygments_lexer": "ipython3",
   "version": "3.8.10"
  }
 },
 "nbformat": 4,
 "nbformat_minor": 5
}
