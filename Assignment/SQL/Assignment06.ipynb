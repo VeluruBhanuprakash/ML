{
 "cells": [
  {
   "cell_type": "code",
   "execution_count": 1,
   "id": "jewish-least",
   "metadata": {},
   "outputs": [],
   "source": [
    "import mysql.connector as connection "
   ]
  },
  {
   "cell_type": "code",
   "execution_count": 2,
   "id": "dedicated-tournament",
   "metadata": {},
   "outputs": [],
   "source": [
    "def executeQuery(query):\n",
    "    con = connection.connect(host='localhost',database='sakila',user='root',passwd='admin',use_pure=True)\n",
    "    cursor = con.cursor()\n",
    "    cursor.execute(query)\n",
    "    result = cursor.fetchall()\n",
    "    con.close()\n",
    "    return result"
   ]
  },
  {
   "cell_type": "markdown",
   "id": "corrected-class",
   "metadata": {},
   "source": [
    "### Q-1. Write an SQL query to print details of the Workers who have joined in Feb’2014."
   ]
  },
  {
   "cell_type": "code",
   "execution_count": 5,
   "id": "destroyed-compilation",
   "metadata": {},
   "outputs": [
    {
     "data": {
      "text/plain": [
       "[(1, 'Monika', 'Arora', 100000, datetime.datetime(2014, 2, 20, 9, 0), 'HR'),\n",
       " (3, 'Vishal', 'Singhal', 300000, datetime.datetime(2014, 2, 20, 9, 0), 'HR'),\n",
       " (4,\n",
       "  'Amitabh',\n",
       "  'Singh',\n",
       "  500000,\n",
       "  datetime.datetime(2014, 2, 20, 9, 0),\n",
       "  'Admin')]"
      ]
     },
     "execution_count": 5,
     "metadata": {},
     "output_type": "execute_result"
    }
   ],
   "source": [
    "query = \"select * from worker where year(joining_date) =2014 and month(joining_date)=2\"\n",
    "executeQuery(query)"
   ]
  },
  {
   "cell_type": "markdown",
   "id": "electrical-worker",
   "metadata": {},
   "source": [
    "### Q-2. Write an SQL query to fetch duplicate records having matching data in some fields of a table."
   ]
  },
  {
   "cell_type": "code",
   "execution_count": 18,
   "id": "thrown-analyst",
   "metadata": {},
   "outputs": [
    {
     "data": {
      "text/plain": [
       "[(2, 'Executive', datetime.datetime(2016, 6, 11, 0, 0)),\n",
       " (6, 'Lead', datetime.datetime(2016, 6, 11, 0, 0))]"
      ]
     },
     "execution_count": 18,
     "metadata": {},
     "output_type": "execute_result"
    }
   ],
   "source": [
    "query = \"select * from title group by Worker_title,affected_from having count(*) >1\"\n",
    "executeQuery(query)"
   ]
  },
  {
   "cell_type": "markdown",
   "id": "electrical-combination",
   "metadata": {},
   "source": [
    "### Q-3. How to remove duplicate rows from Employees table."
   ]
  },
  {
   "cell_type": "code",
   "execution_count": 3,
   "id": "blocked-lounge",
   "metadata": {},
   "outputs": [],
   "source": [
    "def insertquery(query):\n",
    "    con = connection.connect(host='localhost',user='root',passwd='admin',database='sakila',use_pure=True)\n",
    "    cursor = con.cursor()\n",
    "    cursor.execute(query)\n",
    "    con.commit()\n",
    "    con.close()"
   ]
  },
  {
   "cell_type": "code",
   "execution_count": 12,
   "id": "postal-spelling",
   "metadata": {},
   "outputs": [
    {
     "data": {
      "text/plain": [
       "[]"
      ]
     },
     "execution_count": 12,
     "metadata": {},
     "output_type": "execute_result"
    }
   ],
   "source": [
    "query = \"create table employees(empName varchar(20),empNo int)\"\n",
    "executeQuery(query)"
   ]
  },
  {
   "cell_type": "code",
   "execution_count": 13,
   "id": "naughty-drill",
   "metadata": {},
   "outputs": [],
   "source": [
    "insertquery(\"insert into employees values('ABC',123)\")\n",
    "insertquery(\"insert into employees values('ABC',122)\")\n",
    "insertquery(\"insert into employees values('ABC',124)\")\n",
    "insertquery(\"insert into employees values('DBC',125)\")"
   ]
  },
  {
   "cell_type": "code",
   "execution_count": 14,
   "id": "chemical-partner",
   "metadata": {},
   "outputs": [
    {
     "data": {
      "text/plain": [
       "[('ABC', 123), ('ABC', 122), ('ABC', 124), ('DBC', 125)]"
      ]
     },
     "execution_count": 14,
     "metadata": {},
     "output_type": "execute_result"
    }
   ],
   "source": [
    "executeQuery(\"select * from employees\")"
   ]
  },
  {
   "cell_type": "code",
   "execution_count": 15,
   "id": "identified-aerospace",
   "metadata": {},
   "outputs": [],
   "source": [
    "query = \"delete t1 from employees as t1 inner join employees t2 where t1.empNo<t2.empNo and t1.empName=t2.empName\"\n",
    "insertquery(query)"
   ]
  },
  {
   "cell_type": "code",
   "execution_count": 16,
   "id": "hollow-polls",
   "metadata": {},
   "outputs": [
    {
     "data": {
      "text/plain": [
       "[('ABC', 124), ('DBC', 125)]"
      ]
     },
     "execution_count": 16,
     "metadata": {},
     "output_type": "execute_result"
    }
   ],
   "source": [
    "executeQuery(\"select * from employees\")"
   ]
  },
  {
   "cell_type": "code",
   "execution_count": null,
   "id": "excited-category",
   "metadata": {},
   "outputs": [],
   "source": []
  }
 ],
 "metadata": {
  "kernelspec": {
   "display_name": "Python 3",
   "language": "python",
   "name": "python3"
  },
  "language_info": {
   "codemirror_mode": {
    "name": "ipython",
    "version": 3
   },
   "file_extension": ".py",
   "mimetype": "text/x-python",
   "name": "python",
   "nbconvert_exporter": "python",
   "pygments_lexer": "ipython3",
   "version": "3.8.10"
  }
 },
 "nbformat": 4,
 "nbformat_minor": 5
}
