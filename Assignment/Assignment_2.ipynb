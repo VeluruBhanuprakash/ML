{
 "cells": [
  {
   "cell_type": "code",
   "execution_count": 1,
   "id": "israeli-therapy",
   "metadata": {},
   "outputs": [
    {
     "data": {
      "text/plain": [
       "\"\\n1. What are the Boolean data type's two values? How do you go about writing them?\\n\\nSolution: \\nWe have 2 boolean types\\n1.True\\n2.False\\n\\n\""
      ]
     },
     "execution_count": 1,
     "metadata": {},
     "output_type": "execute_result"
    }
   ],
   "source": [
    "'''\n",
    "1. What are the Boolean data type's two values? How do you go about writing them?\n",
    "\n",
    "Solution: \n",
    "We have 2 boolean types\n",
    "1.True\n",
    "2.False\n",
    "\n",
    "'''"
   ]
  },
  {
   "cell_type": "code",
   "execution_count": 2,
   "id": "quick-earth",
   "metadata": {},
   "outputs": [
    {
     "data": {
      "text/plain": [
       "'\\n2. What are the three different types of Boolean operators?\\n\\nSolution:\\n\\nAnd Operator -Example: A and B \\nOr Operator  - Example: A or B\\nnot Operator - Exmaple: not A\\n\\n\\nis operator - Example object A is object B\\nin operator - Example 10 in [10,20,30]\\n\\n== operator - Example 100 == 200, returns false\\n\\nother operators like <,>,<=,>=\\n\\n\\n\\n'"
      ]
     },
     "execution_count": 2,
     "metadata": {},
     "output_type": "execute_result"
    }
   ],
   "source": [
    "'''\n",
    "2. What are the three different types of Boolean operators?\n",
    "\n",
    "Solution:\n",
    "\n",
    "And Operator -Example: A and B \n",
    "Or Operator  - Example: A or B\n",
    "not Operator - Exmaple: not A\n",
    "\n",
    "'''"
   ]
  },
  {
   "cell_type": "code",
   "execution_count": 7,
   "id": "mediterranean-gallery",
   "metadata": {},
   "outputs": [
    {
     "name": "stdout",
     "output_type": "stream",
     "text": [
      "=======================AND Truth table\n",
      "True False False False\n",
      "=======================OR Truth table\n",
      "True True False True\n",
      "=======================Not Truth table\n",
      "False True\n"
     ]
    }
   ],
   "source": [
    "'''\n",
    "3. Make a list of each Boolean operator's truth tables (i.e. every possible combination of Boolean\n",
    "values for the operator and what it evaluate ).\n",
    "\n",
    "Solution:\n",
    "'''\n",
    "\n",
    "#And truth table\n",
    "print(\"=======================AND Truth table\")\n",
    "print(True and True,True and False,False and False,False and True)\n",
    "\n",
    "#OR truth table\n",
    "print(\"=======================OR Truth table\")\n",
    "print(True or True,True or False,False or False,False or True)\n",
    "\n",
    "#Not truth table\n",
    "print(\"=======================Not Truth table\")\n",
    "print(not True,not False)\n"
   ]
  },
  {
   "cell_type": "code",
   "execution_count": 9,
   "id": "alive-express",
   "metadata": {},
   "outputs": [
    {
     "data": {
      "text/plain": [
       "'\\n4. What are the values of the following expressions?\\n\\n(5 > 4) and (3 == 5)\\nnot (5 > 4)\\n(5 > 4) or (3 == 5)\\nnot ((5 > 4) or (3 == 5))\\n(True and True) and (True == False)\\n(not False) or (not True)\\n\\nSolution:\\n\\n(5 > 4) and (3 == 5)-------------------------------------------> True and False   = False\\nnot (5 > 4)----------------------------------------------------> not True         = False\\n(5 > 4) or (3 == 5)--------------------------------------------> True or False    = True\\nnot ((5 > 4) or (3 == 5))--------------------------------------> not(True or False) = False\\n(True and True) and (True == False) ---------------------------> True and False   = False\\n(not False) or (not True) -------------------------------------> True or False    = True\\n\\n'"
      ]
     },
     "execution_count": 9,
     "metadata": {},
     "output_type": "execute_result"
    }
   ],
   "source": [
    "'''\n",
    "4. What are the values of the following expressions?\n",
    "\n",
    "(5 > 4) and (3 == 5)\n",
    "not (5 > 4)\n",
    "(5 > 4) or (3 == 5)\n",
    "not ((5 > 4) or (3 == 5))\n",
    "(True and True) and (True == False)\n",
    "(not False) or (not True)\n",
    "\n",
    "Solution:\n",
    "\n",
    "(5 > 4) and (3 == 5)-------------------------------------------> True and False   = False\n",
    "not (5 > 4)----------------------------------------------------> not True         = False\n",
    "(5 > 4) or (3 == 5)--------------------------------------------> True or False    = True\n",
    "not ((5 > 4) or (3 == 5))--------------------------------------> not(True or False) = False\n",
    "(True and True) and (True == False) ---------------------------> True and False   = False\n",
    "(not False) or (not True) -------------------------------------> True or False    = True\n",
    "\n",
    "'''\n"
   ]
  },
  {
   "cell_type": "code",
   "execution_count": 10,
   "id": "governmental-premiere",
   "metadata": {},
   "outputs": [
    {
     "data": {
      "text/plain": [
       "'\\n5. What are the six different types of reference operators?\\nSolution:\\nArithmetic operators(like +,-,*,/,//)\\nAssignment operators (like =,+=,=+,-=,=-)\\nComparison operators(like !=,==,<=,>=)\\nLogical operators (like and,or, not)\\nIdentity operators (is , is not)\\nMembership operators (in, not in)\\nBitwise operators (&,|,^,~)\\n\\n'"
      ]
     },
     "execution_count": 10,
     "metadata": {},
     "output_type": "execute_result"
    }
   ],
   "source": [
    "\"\"\"\n",
    "5. What are the six different types of reference operators?\n",
    "Solution:\n",
    "Arithmetic operators(like +,-,*,/,//)\n",
    "Assignment operators (like =,+=,=+,-=,=-)\n",
    "Comparison operators(like !=,==,<=,>=)\n",
    "Logical operators (like and,or, not)\n",
    "Identity operators (is , is not)\n",
    "Membership operators (in, not in)\n",
    "Bitwise operators (&,|,^,~)\n",
    "\n",
    "\"\"\""
   ]
  },
  {
   "cell_type": "code",
   "execution_count": 11,
   "id": "behavioral-delay",
   "metadata": {},
   "outputs": [
    {
     "data": {
      "text/plain": [
       "'\\n6. How do you tell the difference between the equal to and assignment operators?\\n\\nSolution:\\n\\nAssignment operator(=)\\nequal to opeartor(===)\\n\\n= --> this is used assign value to variables like A =10\\n==--> this is used to compare the data A == B\\n\\n'"
      ]
     },
     "execution_count": 11,
     "metadata": {},
     "output_type": "execute_result"
    }
   ],
   "source": [
    "'''\n",
    "6. How do you tell the difference between the equal to and assignment operators?\n",
    "\n",
    "Solution:\n",
    "\n",
    "Assignment operator(=)\n",
    "equal to opeartor(===)\n",
    "\n",
    "= --> this is used assign value to variables like A =10\n",
    "==--> this is used to compare the data A == B\n",
    "\n",
    "'''"
   ]
  },
  {
   "cell_type": "code",
   "execution_count": 12,
   "id": "overall-bankruptcy",
   "metadata": {},
   "outputs": [
    {
     "data": {
      "text/plain": [
       "'\\n7. Describe a condition and when you would use one.\\n\\nsolution:\\n\\nif..elif..else\\n\\nif condition==True:\\n    perform action\\nelif condition1 == True:\\n    perform elif action\\nelse:\\n    both above condition fails, perform this action\\n\\n'"
      ]
     },
     "execution_count": 12,
     "metadata": {},
     "output_type": "execute_result"
    }
   ],
   "source": [
    "'''\n",
    "7. Describe a condition and when you would use one.\n",
    "\n",
    "solution:\n",
    "\n",
    "if..elif..else\n",
    "\n",
    "if condition==True:\n",
    "    perform action\n",
    "elif condition1 == True:\n",
    "    perform elif action\n",
    "else:\n",
    "    both above condition fails, perform this action\n",
    "\n",
    "'''"
   ]
  },
  {
   "cell_type": "code",
   "execution_count": 14,
   "id": "characteristic-cycle",
   "metadata": {},
   "outputs": [
    {
     "name": "stdout",
     "output_type": "stream",
     "text": [
      "spam\n"
     ]
    }
   ],
   "source": [
    "'''\n",
    "8. Recognize the following three blocks in this code:\n",
    "\n",
    "spam = 0\n",
    "if spam == 10:\n",
    "    print('eggs')\n",
    "    if spam > 5:\n",
    "        print('bacon')\n",
    "    else:\n",
    "        print('ham')\n",
    "    print('spam')\n",
    "print('spam')\n",
    "\n",
    "Solution:\n",
    "spam\n",
    "\n",
    "'''\n"
   ]
  },
  {
   "cell_type": "code",
   "execution_count": 18,
   "id": "resident-hunger",
   "metadata": {},
   "outputs": [
    {
     "name": "stdout",
     "output_type": "stream",
     "text": [
      "Enter spam number3\n",
      "Salutations!\n"
     ]
    }
   ],
   "source": [
    "'''\n",
    "9. Create a programme that prints. If 1 is stored in spam, prints Hello; if 2 is stored in spam, prints\n",
    "Howdy; and if 3 is stored in spam, prints Salutations! if there's something else in spam.\n",
    "'''\n",
    "\n",
    "spam = int(input(\"Enter spam number\"))\n",
    "if spam==1:\n",
    "    print(\"Hello\")\n",
    "elif spam==2:\n",
    "    print(\"Howdy\")\n",
    "elif spam==3:\n",
    "    print(\"Salutations!\")\n",
    "else:\n",
    "    print(spam)"
   ]
  },
  {
   "cell_type": "code",
   "execution_count": 19,
   "id": "reliable-stick",
   "metadata": {},
   "outputs": [
    {
     "data": {
      "text/plain": [
       "'\\n10.If your programme is stuck in an endless loop, what keys can you press?\\n\\nSolution:\\nCtr+C\\n\\n'"
      ]
     },
     "execution_count": 19,
     "metadata": {},
     "output_type": "execute_result"
    }
   ],
   "source": [
    "'''\n",
    "10.If your programme is stuck in an endless loop, what keys can you press?\n",
    "\n",
    "Solution:\n",
    "Ctr+C\n",
    "\n",
    "'''"
   ]
  },
  {
   "cell_type": "code",
   "execution_count": 24,
   "id": "smoking-railway",
   "metadata": {},
   "outputs": [
    {
     "data": {
      "text/plain": [
       "'\\n11. How can you tell the difference between break and continue?\\n\\nSolution: \\n\\nbreak--> if we want to break the for loop when condition satisfies then we will use break\\n\\nfor i in range(10):\\n    if i == 5:\\n        break\\n    print(i)\\n0\\n1\\n2\\n3\\n4\\n\\nwill be printed and will comeout of the loop \\n\\ncontinue --> in a loop if want to skip particular portion and continue further then we will use continue statement\\n\\nfor i in range(5):\\n    if i==2:\\n        continue\\n    print(i)\\n    \\n0\\n1\\n3\\n4\\n\\n2 will be skipped and rest will be printed\\n\\n'"
      ]
     },
     "execution_count": 24,
     "metadata": {},
     "output_type": "execute_result"
    }
   ],
   "source": [
    "'''\n",
    "11. How can you tell the difference between break and continue?\n",
    "\n",
    "Solution: \n",
    "\n",
    "break--> if we want to break the for loop when condition satisfies then we will use break\n",
    "\n",
    "for i in range(10):\n",
    "    if i == 5:\n",
    "        break\n",
    "    print(i)\n",
    "0\n",
    "1\n",
    "2\n",
    "3\n",
    "4\n",
    "\n",
    "will be printed and will comeout of the loop \n",
    "\n",
    "continue --> in a loop if want to skip particular portion and continue further then we will use continue statement\n",
    "\n",
    "for i in range(5):\n",
    "    if i==2:\n",
    "        continue\n",
    "    print(i)\n",
    "    \n",
    "0\n",
    "1\n",
    "3\n",
    "4\n",
    "\n",
    "2 will be skipped and rest will be printed\n",
    "\n",
    "'''"
   ]
  },
  {
   "cell_type": "code",
   "execution_count": 25,
   "id": "adopted-amsterdam",
   "metadata": {},
   "outputs": [
    {
     "data": {
      "text/plain": [
       "'\\n12. In a for loop, what is the difference between range(10), range(0, 10), and range(0, 10, 1)?\\n\\nSolution:\\nrange(10) -> In this we are specifing stop index that means our for loop will be terminated after repeating 10 time\\n\\nrange(0,10) -> In this we are specifing the start as 0 and stop as 10 our for loop will start with start index ie 0 and end with stop index ie 10 times\\n\\nrange(0,10,1)-> range(start,stop,stepcount) - > run loop from 0 to 10 by incrementing loop 1 time everytime.\\n'"
      ]
     },
     "execution_count": 25,
     "metadata": {},
     "output_type": "execute_result"
    }
   ],
   "source": [
    "'''\n",
    "12. In a for loop, what is the difference between range(10), range(0, 10), and range(0, 10, 1)?\n",
    "\n",
    "Solution:\n",
    "range(10) -> In this we are specifing stop index that means our for loop will be terminated after repeating 10 time\n",
    "\n",
    "range(0,10) -> In this we are specifing the start as 0 and stop as 10 our for loop will start with start index ie 0 and end with stop index ie 10 times\n",
    "\n",
    "range(0,10,1)-> range(start,stop,stepcount) - > run loop from 0 to 10 by incrementing loop 1 time everytime.\n",
    "'''"
   ]
  },
  {
   "cell_type": "code",
   "execution_count": 32,
   "id": "surgical-security",
   "metadata": {},
   "outputs": [
    {
     "name": "stdout",
     "output_type": "stream",
     "text": [
      "1,2,3,4,5,6,7,8,9,10,\n",
      "1,2,3,4,5,6,7,8,9,10,"
     ]
    }
   ],
   "source": [
    "'''\n",
    "13. Using a for loop, write a short programme that prints the numbers 1 to 10 Then, using a while\n",
    "loop, create an identical programme that prints the numbers 1 to 10.\n",
    "'''\n",
    "\n",
    "for i in range(1,11):\n",
    "    print(i,end=\",\")\n",
    "print()\n",
    "\n",
    "j=1\n",
    "while(j<11):\n",
    "    print(j,end=\",\")\n",
    "    j+=1"
   ]
  },
  {
   "cell_type": "code",
   "execution_count": null,
   "id": "working-satisfaction",
   "metadata": {},
   "outputs": [],
   "source": [
    "'''\n",
    "14. If you had a bacon() function within a spam module, how would you call it after importing\n",
    "spam?\n",
    "\n",
    "Solution:\n",
    "\n",
    "import spam as sp\n",
    "\n",
    "sp.bacon()\n",
    "\n",
    "\n",
    "'''"
   ]
  }
 ],
 "metadata": {
  "kernelspec": {
   "display_name": "Python 3",
   "language": "python",
   "name": "python3"
  },
  "language_info": {
   "codemirror_mode": {
    "name": "ipython",
    "version": 3
   },
   "file_extension": ".py",
   "mimetype": "text/x-python",
   "name": "python",
   "nbconvert_exporter": "python",
   "pygments_lexer": "ipython3",
   "version": "3.8.8"
  }
 },
 "nbformat": 4,
 "nbformat_minor": 5
}
