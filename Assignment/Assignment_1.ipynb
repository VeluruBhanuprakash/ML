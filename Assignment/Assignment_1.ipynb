{
 "cells": [
  {
   "cell_type": "code",
   "execution_count": null,
   "id": "opened-airport",
   "metadata": {},
   "outputs": [],
   "source": [
    "'''\n",
    "1. What are the differences between operators and values in the following?\n",
    "*\n",
    "'hello'\n",
    "-87.8\n",
    "-\n",
    "/\n",
    "+\n",
    "6\n",
    "'''\n",
    "\n",
    "\n",
    "'''\n",
    "Solution:\n",
    "\n",
    "operators - Operator is used perform actions based on values (operations like addition,subtraction,comparision e.t.c)\n",
    "values -  which will hold the data like numbers or strings\n",
    "\n",
    "* - is a multiplication operator\n",
    "'hello' - is a string \n",
    "-87.8 - is a negative number of float type\n",
    "- - is a subtraction operator\n",
    "/ - is a division operator\n",
    "+ - is a addition operator\n",
    "6 - is a number, of integer type\n",
    "\n",
    "'''    "
   ]
  },
  {
   "cell_type": "code",
   "execution_count": 6,
   "id": "altered-luther",
   "metadata": {},
   "outputs": [
    {
     "data": {
      "text/plain": [
       "\"\\n2. What is the difference between string and variable?\\nspam\\n'spam'\\n\\n\\nSolution:\\nspam - is a variable which can store value like integer or string\\nexample:\\nspam = 10\\nor \\nspam ='hello'\\nprint(spam)\\nhere variable will be printed ie. hello\\n\\n'spam' -  is a string\\nprint('spam')\\n\\nhere spam will be printed, since we pass 'spam' as string\\n\\n\\n\""
      ]
     },
     "execution_count": 6,
     "metadata": {},
     "output_type": "execute_result"
    }
   ],
   "source": [
    "'''\n",
    "2. What is the difference between string and variable?\n",
    "spam\n",
    "'spam'\n",
    "\n",
    "\n",
    "Solution:\n",
    "spam - is a variable which can store value like integer or string\n",
    "example:\n",
    "spam = 10\n",
    "or \n",
    "spam ='hello'\n",
    "print(spam)\n",
    "here variable will be printed ie. hello\n",
    "\n",
    "'spam' -  is a string\n",
    "print('spam')\n",
    "\n",
    "here spam will be printed, since we pass 'spam' as string\n",
    "\n",
    "\n",
    "'''"
   ]
  },
  {
   "cell_type": "code",
   "execution_count": 7,
   "id": "going-killing",
   "metadata": {},
   "outputs": [
    {
     "data": {
      "text/plain": [
       "'\\nDescribe three different data forms.\\n\\nSolution:\\n1.Numeric type - int,str,float\\n2.Sequence type - list,tuple\\n3. Mapping type - dict\\n4.boolean -bool\\n\\n\\n'"
      ]
     },
     "execution_count": 7,
     "metadata": {},
     "output_type": "execute_result"
    }
   ],
   "source": [
    "'''\n",
    "Describe three different data forms.\n",
    "\n",
    "Solution:\n",
    "1.Numeric type - int,str,float\n",
    "2.Sequence type - list,tuple\n",
    "3. Mapping type - dict\n",
    "4.boolean -bool\n",
    "\n",
    "\n",
    "'''"
   ]
  },
  {
   "cell_type": "code",
   "execution_count": 8,
   "id": "eligible-ordinance",
   "metadata": {},
   "outputs": [
    {
     "data": {
      "text/plain": [
       "'\\n4. What makes up an expression? What are the functions of all expressions?\\n\\nSolution:\\n\\nExpression is the combination of variable or numeric values or string with atleast 1 operator(like +,-,/,* etc)\\nExample: \\n10+20 \\nFunction expression is nothing but syntax of the function\\nExample\\ndef addnumber(a,b):\\n    retrun a+b\\n\\naddnumber is function which will take a and b as input and perfom addition on 2 variable\\n'"
      ]
     },
     "execution_count": 8,
     "metadata": {},
     "output_type": "execute_result"
    }
   ],
   "source": [
    "'''\n",
    "4. What makes up an expression? What are the functions of all expressions?\n",
    "\n",
    "Solution:\n",
    "\n",
    "Expression is the combination of variable or numeric values or string with atleast 1 operator(like +,-,/,* etc)\n",
    "Example: \n",
    "10+20 \n",
    "\n",
    "\n",
    "Function expression is nothing but syntax of the function\n",
    "Example\n",
    "def addnumber(a,b):\n",
    "    retrun a+b\n",
    "\n",
    "addnumber is function which will take a and b as input and perfom addition on 2 variable\n",
    "'''"
   ]
  },
  {
   "cell_type": "code",
   "execution_count": 9,
   "id": "indian-version",
   "metadata": {},
   "outputs": [
    {
     "data": {
      "text/plain": [
       "\"\\n5. In this chapter, assignment statements such as spam = 10 were added. What's the\\ndifference between a declaration and an expression?\\n\\n\\nSolution:\\n\\ndeclaration: Assiging value to variable is called declaration\\nExample\\na=10\\n\\n\\nexpression: expression is combination of variable or numbers along with operators(like +,* etc)\\n\\n\\n\""
      ]
     },
     "execution_count": 9,
     "metadata": {},
     "output_type": "execute_result"
    }
   ],
   "source": [
    "'''\n",
    "5. In this chapter, assignment statements such as spam = 10 were added. What's the\n",
    "difference between a declaration and an expression?\n",
    "\n",
    "\n",
    "Solution:\n",
    "\n",
    "declaration: Assiging value to variable is called declaration\n",
    "Example\n",
    "a=10\n",
    "\n",
    "\n",
    "expression: expression is combination of variable or numbers along with operators(like +,* etc)\n",
    "\n",
    "\n",
    "'''"
   ]
  },
  {
   "cell_type": "code",
   "execution_count": 10,
   "id": "standing-single",
   "metadata": {},
   "outputs": [
    {
     "data": {
      "text/plain": [
       "'\\n6. After running the following code, what does the variable bacon contain?\\nbacon = 22\\nbacon + 1\\n\\nSolution:\\n\\n22\\n\\n'"
      ]
     },
     "execution_count": 10,
     "metadata": {},
     "output_type": "execute_result"
    }
   ],
   "source": [
    "'''\n",
    "6. After running the following code, what does the variable bacon contain?\n",
    "bacon = 22\n",
    "bacon + 1\n",
    "\n",
    "Solution:\n",
    "\n",
    "22\n",
    "\n",
    "'''"
   ]
  },
  {
   "cell_type": "code",
   "execution_count": 11,
   "id": "naughty-retrieval",
   "metadata": {},
   "outputs": [
    {
     "data": {
      "text/plain": [
       "\"\\n7. What should the values of the following two terms be?\\n\\n'spam' + 'spamspam'\\n'spam' * 3\\n\\nSolution:\\n\\nThe value for both are same 'spamspamspam' , spam will be printed thrice\\n\\n\\n\""
      ]
     },
     "execution_count": 11,
     "metadata": {},
     "output_type": "execute_result"
    }
   ],
   "source": [
    "'''\n",
    "7. What should the values of the following two terms be?\n",
    "\n",
    "'spam' + 'spamspam'\n",
    "'spam' * 3\n",
    "\n",
    "Solution:\n",
    "\n",
    "The value for both are same 'spamspamspam' , spam will be printed thrice\n",
    "\n",
    "\n",
    "'''"
   ]
  },
  {
   "cell_type": "code",
   "execution_count": 12,
   "id": "champion-northern",
   "metadata": {},
   "outputs": [
    {
     "data": {
      "text/plain": [
       "'\\n8. Why is it that eggs is a true variable name but 100 is not?\\n\\nSolution:\\n\\nVariable should be start with character only and numbers can be defined later on but special characters(apart from underscore) are not allowed \\nso eggs start with character so it is valid varaible\\n100 starts with number so it is not valid variable\\n\\n'"
      ]
     },
     "execution_count": 12,
     "metadata": {},
     "output_type": "execute_result"
    }
   ],
   "source": [
    "'''\n",
    "8. Why is it that eggs is a true variable name but 100 is not?\n",
    "\n",
    "Solution:\n",
    "\n",
    "Variable should be start with character only and numbers can be defined later on but special characters(apart from underscore) are not allowed \n",
    "so eggs start with character so it is valid varaible\n",
    "100 starts with number so it is not valid variable\n",
    "\n",
    "'''\n",
    "\n"
   ]
  },
  {
   "cell_type": "code",
   "execution_count": 13,
   "id": "contained-place",
   "metadata": {},
   "outputs": [
    {
     "data": {
      "text/plain": [
       "'\\n9. Which of the following three functions may be used to convert a value to an integer, a\\nfloating-point number, or a string?\\n\\nSolution:\\nmethod to convert value to int - int(value)\\nmethod to convert value to string - str(value)\\nmethod to convert value to float - float(value)\\n'"
      ]
     },
     "execution_count": 13,
     "metadata": {},
     "output_type": "execute_result"
    }
   ],
   "source": [
    "'''\n",
    "9. Which of the following three functions may be used to convert a value to an integer, a\n",
    "floating-point number, or a string?\n",
    "\n",
    "Solution:\n",
    "method to convert value to int - int(value)\n",
    "method to convert value to string - str(value)\n",
    "method to convert value to float - float(value)\n",
    "'''\n"
   ]
  },
  {
   "cell_type": "code",
   "execution_count": 14,
   "id": "characteristic-container",
   "metadata": {},
   "outputs": [
    {
     "data": {
      "text/plain": [
       "\"\\n\\n10. What is the error caused by this expression? What would you do about it?\\n\\n'I have eaten ' + 99 + ' burritos.'\\n\\n\\nSolution:\\n\\nType cast error will be thrown.99 is integer so we need to convert 99 to string before printing \\n\\n'I have eaten ' + str(99) + ' burritos.'\\n\\n\\n\\n\""
      ]
     },
     "execution_count": 14,
     "metadata": {},
     "output_type": "execute_result"
    }
   ],
   "source": [
    "'''\n",
    "\n",
    "10. What is the error caused by this expression? What would you do about it?\n",
    "\n",
    "'I have eaten ' + 99 + ' burritos.'\n",
    "\n",
    "\n",
    "Solution:\n",
    "\n",
    "Type cast error will be thrown.99 is integer so we need to convert 99 to string before printing \n",
    "\n",
    "'I have eaten ' + str(99) + ' burritos.'\n",
    "\n",
    "\n",
    "\n",
    "'''"
   ]
  }
 ],
 "metadata": {
  "kernelspec": {
   "display_name": "Python 3",
   "language": "python",
   "name": "python3"
  },
  "language_info": {
   "codemirror_mode": {
    "name": "ipython",
    "version": 3
   },
   "file_extension": ".py",
   "mimetype": "text/x-python",
   "name": "python",
   "nbconvert_exporter": "python",
   "pygments_lexer": "ipython3",
   "version": "3.8.8"
  }
 },
 "nbformat": 4,
 "nbformat_minor": 5
}
